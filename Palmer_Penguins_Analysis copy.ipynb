{
 "cells": [
  {
   "cell_type": "code",
   "execution_count": 5,
   "metadata": {},
   "outputs": [],
   "source": [
    "import pandas as pd\n",
    "import numpy as np\n",
    "import matplotlib.pyplot as plt\n",
    "import plotly.express as px\n",
    "from scipy.stats import f_oneway\n",
    "%matplotlib inline"
   ]
  },
  {
   "cell_type": "code",
   "execution_count": 24,
   "metadata": {},
   "outputs": [],
   "source": [
    "# Credits:\n",
    "# Horst AM, Hill AP, Gorman KB (2020). palmerpenguins: Palmer\n",
    "# Archipelago (Antarctica) penguin data. R package version 0.1.0.\n",
    "# https://allisonhorst.github.io/palmerpenguins/\n",
    "url = 'https://gist.githubusercontent.com/slopp/'+ \\\n",
    "      'ce3b90b9168f2f921784de84fa445651/raw/' + \\\n",
    "      '4ecf3041f0ed4913e7c230758733948bc561f434/penguins.csv'\n",
    "df = pd.read_csv(url)"
   ]
  },
  {
   "cell_type": "markdown",
   "metadata": {},
   "source": [
    "<img src='https://allisonhorst.github.io/palmerpenguins/reference/figures/lter_penguins.png' width=400/>"
   ]
  },
  {
   "cell_type": "markdown",
   "metadata": {},
   "source": [
    "**Image 1.** Penguins drawing. Artwork by @allison_hors."
   ]
  },
  {
   "cell_type": "code",
   "execution_count": 7,
   "metadata": {},
   "outputs": [
    {
     "name": "stdout",
     "output_type": "stream",
     "text": [
      "<class 'pandas.core.frame.DataFrame'>\n",
      "RangeIndex: 344 entries, 0 to 343\n",
      "Data columns (total 9 columns):\n",
      " #   Column             Non-Null Count  Dtype  \n",
      "---  ------             --------------  -----  \n",
      " 0   rowid              344 non-null    int64  \n",
      " 1   species            344 non-null    object \n",
      " 2   island             344 non-null    object \n",
      " 3   bill_length_mm     342 non-null    float64\n",
      " 4   bill_depth_mm      342 non-null    float64\n",
      " 5   flipper_length_mm  342 non-null    float64\n",
      " 6   body_mass_g        342 non-null    float64\n",
      " 7   sex                333 non-null    object \n",
      " 8   year               344 non-null    int64  \n",
      "dtypes: float64(4), int64(2), object(3)\n",
      "memory usage: 24.3+ KB\n"
     ]
    }
   ],
   "source": [
    "# check basic info\n",
    "df.info()"
   ]
  },
  {
   "cell_type": "code",
   "execution_count": 20,
   "metadata": {},
   "outputs": [
    {
     "data": {
      "text/html": [
       "<div>\n",
       "<style scoped>\n",
       "    .dataframe tbody tr th:only-of-type {\n",
       "        vertical-align: middle;\n",
       "    }\n",
       "\n",
       "    .dataframe tbody tr th {\n",
       "        vertical-align: top;\n",
       "    }\n",
       "\n",
       "    .dataframe thead th {\n",
       "        text-align: right;\n",
       "    }\n",
       "</style>\n",
       "<table border=\"1\" class=\"dataframe\">\n",
       "  <thead>\n",
       "    <tr style=\"text-align: right;\">\n",
       "      <th></th>\n",
       "      <th>rowid</th>\n",
       "      <th>species</th>\n",
       "      <th>island</th>\n",
       "      <th>bill_length_mm</th>\n",
       "      <th>bill_depth_mm</th>\n",
       "      <th>flipper_length_mm</th>\n",
       "      <th>body_mass_g</th>\n",
       "      <th>sex</th>\n",
       "      <th>year</th>\n",
       "    </tr>\n",
       "  </thead>\n",
       "  <tbody>\n",
       "    <tr>\n",
       "      <th>242</th>\n",
       "      <td>243</td>\n",
       "      <td>Gentoo</td>\n",
       "      <td>Biscoe</td>\n",
       "      <td>47.5</td>\n",
       "      <td>15.0</td>\n",
       "      <td>218.0</td>\n",
       "      <td>4950.0</td>\n",
       "      <td>female</td>\n",
       "      <td>2009</td>\n",
       "    </tr>\n",
       "    <tr>\n",
       "      <th>240</th>\n",
       "      <td>241</td>\n",
       "      <td>Gentoo</td>\n",
       "      <td>Biscoe</td>\n",
       "      <td>47.5</td>\n",
       "      <td>14.0</td>\n",
       "      <td>212.0</td>\n",
       "      <td>4875.0</td>\n",
       "      <td>female</td>\n",
       "      <td>2009</td>\n",
       "    </tr>\n",
       "    <tr>\n",
       "      <th>67</th>\n",
       "      <td>68</td>\n",
       "      <td>Adelie</td>\n",
       "      <td>Biscoe</td>\n",
       "      <td>41.1</td>\n",
       "      <td>19.1</td>\n",
       "      <td>188.0</td>\n",
       "      <td>4100.0</td>\n",
       "      <td>male</td>\n",
       "      <td>2008</td>\n",
       "    </tr>\n",
       "    <tr>\n",
       "      <th>321</th>\n",
       "      <td>322</td>\n",
       "      <td>Chinstrap</td>\n",
       "      <td>Dream</td>\n",
       "      <td>50.8</td>\n",
       "      <td>18.5</td>\n",
       "      <td>201.0</td>\n",
       "      <td>4450.0</td>\n",
       "      <td>male</td>\n",
       "      <td>2009</td>\n",
       "    </tr>\n",
       "    <tr>\n",
       "      <th>37</th>\n",
       "      <td>38</td>\n",
       "      <td>Adelie</td>\n",
       "      <td>Dream</td>\n",
       "      <td>42.2</td>\n",
       "      <td>18.5</td>\n",
       "      <td>180.0</td>\n",
       "      <td>3550.0</td>\n",
       "      <td>female</td>\n",
       "      <td>2007</td>\n",
       "    </tr>\n",
       "    <tr>\n",
       "      <th>26</th>\n",
       "      <td>27</td>\n",
       "      <td>Adelie</td>\n",
       "      <td>Biscoe</td>\n",
       "      <td>40.6</td>\n",
       "      <td>18.6</td>\n",
       "      <td>183.0</td>\n",
       "      <td>3550.0</td>\n",
       "      <td>male</td>\n",
       "      <td>2007</td>\n",
       "    </tr>\n",
       "    <tr>\n",
       "      <th>68</th>\n",
       "      <td>69</td>\n",
       "      <td>Adelie</td>\n",
       "      <td>Torgersen</td>\n",
       "      <td>35.9</td>\n",
       "      <td>16.6</td>\n",
       "      <td>190.0</td>\n",
       "      <td>3050.0</td>\n",
       "      <td>female</td>\n",
       "      <td>2008</td>\n",
       "    </tr>\n",
       "    <tr>\n",
       "      <th>215</th>\n",
       "      <td>216</td>\n",
       "      <td>Gentoo</td>\n",
       "      <td>Biscoe</td>\n",
       "      <td>54.3</td>\n",
       "      <td>15.7</td>\n",
       "      <td>231.0</td>\n",
       "      <td>5650.0</td>\n",
       "      <td>male</td>\n",
       "      <td>2008</td>\n",
       "    </tr>\n",
       "    <tr>\n",
       "      <th>207</th>\n",
       "      <td>208</td>\n",
       "      <td>Gentoo</td>\n",
       "      <td>Biscoe</td>\n",
       "      <td>45.0</td>\n",
       "      <td>15.4</td>\n",
       "      <td>220.0</td>\n",
       "      <td>5050.0</td>\n",
       "      <td>male</td>\n",
       "      <td>2008</td>\n",
       "    </tr>\n",
       "    <tr>\n",
       "      <th>98</th>\n",
       "      <td>99</td>\n",
       "      <td>Adelie</td>\n",
       "      <td>Dream</td>\n",
       "      <td>33.1</td>\n",
       "      <td>16.1</td>\n",
       "      <td>178.0</td>\n",
       "      <td>2900.0</td>\n",
       "      <td>female</td>\n",
       "      <td>2008</td>\n",
       "    </tr>\n",
       "  </tbody>\n",
       "</table>\n",
       "</div>"
      ],
      "text/plain": [
       "     rowid    species     island  bill_length_mm  bill_depth_mm  \\\n",
       "242    243     Gentoo     Biscoe            47.5           15.0   \n",
       "240    241     Gentoo     Biscoe            47.5           14.0   \n",
       "67      68     Adelie     Biscoe            41.1           19.1   \n",
       "321    322  Chinstrap      Dream            50.8           18.5   \n",
       "37      38     Adelie      Dream            42.2           18.5   \n",
       "26      27     Adelie     Biscoe            40.6           18.6   \n",
       "68      69     Adelie  Torgersen            35.9           16.6   \n",
       "215    216     Gentoo     Biscoe            54.3           15.7   \n",
       "207    208     Gentoo     Biscoe            45.0           15.4   \n",
       "98      99     Adelie      Dream            33.1           16.1   \n",
       "\n",
       "     flipper_length_mm  body_mass_g     sex  year  \n",
       "242              218.0       4950.0  female  2009  \n",
       "240              212.0       4875.0  female  2009  \n",
       "67               188.0       4100.0    male  2008  \n",
       "321              201.0       4450.0    male  2009  \n",
       "37               180.0       3550.0  female  2007  \n",
       "26               183.0       3550.0    male  2007  \n",
       "68               190.0       3050.0  female  2008  \n",
       "215              231.0       5650.0    male  2008  \n",
       "207              220.0       5050.0    male  2008  \n",
       "98               178.0       2900.0  female  2008  "
      ]
     },
     "execution_count": 20,
     "metadata": {},
     "output_type": "execute_result"
    }
   ],
   "source": [
    "# Show 10 observations\n",
    "df.sample(10)"
   ]
  },
  {
   "cell_type": "markdown",
   "metadata": {},
   "source": [
    "<img src=\"https://allisonhorst.github.io/palmerpenguins/reference/figures/culmen_depth.png\" width=400/>"
   ]
  },
  {
   "cell_type": "markdown",
   "metadata": {},
   "source": [
    "**Image 2.** Penguins dimensions. Artwork by @allison_hors."
   ]
  },
  {
   "cell_type": "code",
   "execution_count": 25,
   "metadata": {},
   "outputs": [],
   "source": [
    "# Drop na values, but explain your rule of decision\n",
    "df = df.dropna(subset = ['bill_length_mm', 'bill_depth_mm', 'flipper_length_mm', 'body_mass_g'])\n"
   ]
  },
  {
   "cell_type": "code",
   "execution_count": 26,
   "metadata": {},
   "outputs": [
    {
     "data": {
      "text/html": [
       "<div>\n",
       "<style scoped>\n",
       "    .dataframe tbody tr th:only-of-type {\n",
       "        vertical-align: middle;\n",
       "    }\n",
       "\n",
       "    .dataframe tbody tr th {\n",
       "        vertical-align: top;\n",
       "    }\n",
       "\n",
       "    .dataframe thead th {\n",
       "        text-align: right;\n",
       "    }\n",
       "</style>\n",
       "<table border=\"1\" class=\"dataframe\">\n",
       "  <thead>\n",
       "    <tr style=\"text-align: right;\">\n",
       "      <th></th>\n",
       "      <th>rowid</th>\n",
       "      <th>bill_length_mm</th>\n",
       "      <th>bill_depth_mm</th>\n",
       "      <th>flipper_length_mm</th>\n",
       "      <th>body_mass_g</th>\n",
       "      <th>year</th>\n",
       "    </tr>\n",
       "  </thead>\n",
       "  <tbody>\n",
       "    <tr>\n",
       "      <th>count</th>\n",
       "      <td>342.000000</td>\n",
       "      <td>342.000000</td>\n",
       "      <td>342.000000</td>\n",
       "      <td>342.000000</td>\n",
       "      <td>342.000000</td>\n",
       "      <td>342.000000</td>\n",
       "    </tr>\n",
       "    <tr>\n",
       "      <th>mean</th>\n",
       "      <td>172.701754</td>\n",
       "      <td>43.921930</td>\n",
       "      <td>17.151170</td>\n",
       "      <td>200.915205</td>\n",
       "      <td>4201.754386</td>\n",
       "      <td>2008.029240</td>\n",
       "    </tr>\n",
       "    <tr>\n",
       "      <th>std</th>\n",
       "      <td>99.174948</td>\n",
       "      <td>5.459584</td>\n",
       "      <td>1.974793</td>\n",
       "      <td>14.061714</td>\n",
       "      <td>801.954536</td>\n",
       "      <td>0.817168</td>\n",
       "    </tr>\n",
       "    <tr>\n",
       "      <th>min</th>\n",
       "      <td>1.000000</td>\n",
       "      <td>32.100000</td>\n",
       "      <td>13.100000</td>\n",
       "      <td>172.000000</td>\n",
       "      <td>2700.000000</td>\n",
       "      <td>2007.000000</td>\n",
       "    </tr>\n",
       "    <tr>\n",
       "      <th>25%</th>\n",
       "      <td>87.250000</td>\n",
       "      <td>39.225000</td>\n",
       "      <td>15.600000</td>\n",
       "      <td>190.000000</td>\n",
       "      <td>3550.000000</td>\n",
       "      <td>2007.000000</td>\n",
       "    </tr>\n",
       "    <tr>\n",
       "      <th>50%</th>\n",
       "      <td>172.500000</td>\n",
       "      <td>44.450000</td>\n",
       "      <td>17.300000</td>\n",
       "      <td>197.000000</td>\n",
       "      <td>4050.000000</td>\n",
       "      <td>2008.000000</td>\n",
       "    </tr>\n",
       "    <tr>\n",
       "      <th>75%</th>\n",
       "      <td>257.750000</td>\n",
       "      <td>48.500000</td>\n",
       "      <td>18.700000</td>\n",
       "      <td>213.000000</td>\n",
       "      <td>4750.000000</td>\n",
       "      <td>2009.000000</td>\n",
       "    </tr>\n",
       "    <tr>\n",
       "      <th>max</th>\n",
       "      <td>344.000000</td>\n",
       "      <td>59.600000</td>\n",
       "      <td>21.500000</td>\n",
       "      <td>231.000000</td>\n",
       "      <td>6300.000000</td>\n",
       "      <td>2009.000000</td>\n",
       "    </tr>\n",
       "  </tbody>\n",
       "</table>\n",
       "</div>"
      ],
      "text/plain": [
       "            rowid  bill_length_mm  bill_depth_mm  flipper_length_mm  \\\n",
       "count  342.000000      342.000000     342.000000         342.000000   \n",
       "mean   172.701754       43.921930      17.151170         200.915205   \n",
       "std     99.174948        5.459584       1.974793          14.061714   \n",
       "min      1.000000       32.100000      13.100000         172.000000   \n",
       "25%     87.250000       39.225000      15.600000         190.000000   \n",
       "50%    172.500000       44.450000      17.300000         197.000000   \n",
       "75%    257.750000       48.500000      18.700000         213.000000   \n",
       "max    344.000000       59.600000      21.500000         231.000000   \n",
       "\n",
       "       body_mass_g         year  \n",
       "count   342.000000   342.000000  \n",
       "mean   4201.754386  2008.029240  \n",
       "std     801.954536     0.817168  \n",
       "min    2700.000000  2007.000000  \n",
       "25%    3550.000000  2007.000000  \n",
       "50%    4050.000000  2008.000000  \n",
       "75%    4750.000000  2009.000000  \n",
       "max    6300.000000  2009.000000  "
      ]
     },
     "execution_count": 26,
     "metadata": {},
     "output_type": "execute_result"
    }
   ],
   "source": [
    "# Get a basic summary of the data\n",
    "df.describe()"
   ]
  },
  {
   "cell_type": "code",
   "execution_count": 28,
   "metadata": {},
   "outputs": [
    {
     "data": {
      "text/plain": [
       "species    island   \n",
       "Gentoo     Biscoe       123\n",
       "Chinstrap  Dream         68\n",
       "Adelie     Dream         56\n",
       "           Torgersen     51\n",
       "           Biscoe        44\n",
       "dtype: int64"
      ]
     },
     "execution_count": 28,
     "metadata": {},
     "output_type": "execute_result"
    }
   ],
   "source": [
    "# How many penguins by species and island we have?\n",
    "df[['species', 'island']].value_counts()"
   ]
  },
  {
   "cell_type": "code",
   "execution_count": 34,
   "metadata": {},
   "outputs": [
    {
     "name": "stderr",
     "output_type": "stream",
     "text": [
      "/tmp/ipykernel_988/2334384418.py:2: FutureWarning: ['island', 'sex'] did not aggregate successfully. If any error is raised this will raise in a future version of pandas. Drop these columns/ops to avoid this warning.\n",
      "  df.groupby('species').agg(['mean', 'median', 'std', 'max', 'min'])\n"
     ]
    },
    {
     "data": {
      "text/html": [
       "<div>\n",
       "<style scoped>\n",
       "    .dataframe tbody tr th:only-of-type {\n",
       "        vertical-align: middle;\n",
       "    }\n",
       "\n",
       "    .dataframe tbody tr th {\n",
       "        vertical-align: top;\n",
       "    }\n",
       "\n",
       "    .dataframe thead tr th {\n",
       "        text-align: left;\n",
       "    }\n",
       "\n",
       "    .dataframe thead tr:last-of-type th {\n",
       "        text-align: right;\n",
       "    }\n",
       "</style>\n",
       "<table border=\"1\" class=\"dataframe\">\n",
       "  <thead>\n",
       "    <tr>\n",
       "      <th></th>\n",
       "      <th colspan=\"5\" halign=\"left\">rowid</th>\n",
       "      <th colspan=\"5\" halign=\"left\">bill_length_mm</th>\n",
       "      <th>...</th>\n",
       "      <th colspan=\"5\" halign=\"left\">body_mass_g</th>\n",
       "      <th colspan=\"5\" halign=\"left\">year</th>\n",
       "    </tr>\n",
       "    <tr>\n",
       "      <th></th>\n",
       "      <th>mean</th>\n",
       "      <th>median</th>\n",
       "      <th>std</th>\n",
       "      <th>max</th>\n",
       "      <th>min</th>\n",
       "      <th>mean</th>\n",
       "      <th>median</th>\n",
       "      <th>std</th>\n",
       "      <th>max</th>\n",
       "      <th>min</th>\n",
       "      <th>...</th>\n",
       "      <th>mean</th>\n",
       "      <th>median</th>\n",
       "      <th>std</th>\n",
       "      <th>max</th>\n",
       "      <th>min</th>\n",
       "      <th>mean</th>\n",
       "      <th>median</th>\n",
       "      <th>std</th>\n",
       "      <th>max</th>\n",
       "      <th>min</th>\n",
       "    </tr>\n",
       "    <tr>\n",
       "      <th>species</th>\n",
       "      <th></th>\n",
       "      <th></th>\n",
       "      <th></th>\n",
       "      <th></th>\n",
       "      <th></th>\n",
       "      <th></th>\n",
       "      <th></th>\n",
       "      <th></th>\n",
       "      <th></th>\n",
       "      <th></th>\n",
       "      <th></th>\n",
       "      <th></th>\n",
       "      <th></th>\n",
       "      <th></th>\n",
       "      <th></th>\n",
       "      <th></th>\n",
       "      <th></th>\n",
       "      <th></th>\n",
       "      <th></th>\n",
       "      <th></th>\n",
       "      <th></th>\n",
       "    </tr>\n",
       "  </thead>\n",
       "  <tbody>\n",
       "    <tr>\n",
       "      <th>Adelie</th>\n",
       "      <td>76.980132</td>\n",
       "      <td>77.0</td>\n",
       "      <td>43.768096</td>\n",
       "      <td>152</td>\n",
       "      <td>1</td>\n",
       "      <td>38.791391</td>\n",
       "      <td>38.80</td>\n",
       "      <td>2.663405</td>\n",
       "      <td>46.0</td>\n",
       "      <td>32.1</td>\n",
       "      <td>...</td>\n",
       "      <td>3700.662252</td>\n",
       "      <td>3700.0</td>\n",
       "      <td>458.566126</td>\n",
       "      <td>4775.0</td>\n",
       "      <td>2850.0</td>\n",
       "      <td>2008.019868</td>\n",
       "      <td>2008.0</td>\n",
       "      <td>0.820327</td>\n",
       "      <td>2009</td>\n",
       "      <td>2007</td>\n",
       "    </tr>\n",
       "    <tr>\n",
       "      <th>Chinstrap</th>\n",
       "      <td>310.500000</td>\n",
       "      <td>310.5</td>\n",
       "      <td>19.773720</td>\n",
       "      <td>344</td>\n",
       "      <td>277</td>\n",
       "      <td>48.833824</td>\n",
       "      <td>49.55</td>\n",
       "      <td>3.339256</td>\n",
       "      <td>58.0</td>\n",
       "      <td>40.9</td>\n",
       "      <td>...</td>\n",
       "      <td>3733.088235</td>\n",
       "      <td>3700.0</td>\n",
       "      <td>384.335081</td>\n",
       "      <td>4800.0</td>\n",
       "      <td>2700.0</td>\n",
       "      <td>2007.970588</td>\n",
       "      <td>2008.0</td>\n",
       "      <td>0.863360</td>\n",
       "      <td>2009</td>\n",
       "      <td>2007</td>\n",
       "    </tr>\n",
       "    <tr>\n",
       "      <th>Gentoo</th>\n",
       "      <td>214.032520</td>\n",
       "      <td>214.0</td>\n",
       "      <td>35.706209</td>\n",
       "      <td>276</td>\n",
       "      <td>153</td>\n",
       "      <td>47.504878</td>\n",
       "      <td>47.30</td>\n",
       "      <td>3.081857</td>\n",
       "      <td>59.6</td>\n",
       "      <td>40.9</td>\n",
       "      <td>...</td>\n",
       "      <td>5076.016260</td>\n",
       "      <td>5000.0</td>\n",
       "      <td>504.116237</td>\n",
       "      <td>6300.0</td>\n",
       "      <td>3950.0</td>\n",
       "      <td>2008.073171</td>\n",
       "      <td>2008.0</td>\n",
       "      <td>0.791043</td>\n",
       "      <td>2009</td>\n",
       "      <td>2007</td>\n",
       "    </tr>\n",
       "  </tbody>\n",
       "</table>\n",
       "<p>3 rows × 30 columns</p>\n",
       "</div>"
      ],
      "text/plain": [
       "                rowid                             bill_length_mm         \\\n",
       "                 mean median        std  max  min           mean median   \n",
       "species                                                                   \n",
       "Adelie      76.980132   77.0  43.768096  152    1      38.791391  38.80   \n",
       "Chinstrap  310.500000  310.5  19.773720  344  277      48.833824  49.55   \n",
       "Gentoo     214.032520  214.0  35.706209  276  153      47.504878  47.30   \n",
       "\n",
       "                                 ...  body_mass_g                              \\\n",
       "                std   max   min  ...         mean  median         std     max   \n",
       "species                          ...                                            \n",
       "Adelie     2.663405  46.0  32.1  ...  3700.662252  3700.0  458.566126  4775.0   \n",
       "Chinstrap  3.339256  58.0  40.9  ...  3733.088235  3700.0  384.335081  4800.0   \n",
       "Gentoo     3.081857  59.6  40.9  ...  5076.016260  5000.0  504.116237  6300.0   \n",
       "\n",
       "                          year                                \n",
       "              min         mean  median       std   max   min  \n",
       "species                                                       \n",
       "Adelie     2850.0  2008.019868  2008.0  0.820327  2009  2007  \n",
       "Chinstrap  2700.0  2007.970588  2008.0  0.863360  2009  2007  \n",
       "Gentoo     3950.0  2008.073171  2008.0  0.791043  2009  2007  \n",
       "\n",
       "[3 rows x 30 columns]"
      ]
     },
     "execution_count": 34,
     "metadata": {},
     "output_type": "execute_result"
    }
   ],
   "source": [
    "# Get the basic metrics (mean, median, std, max, min) per species\n",
    "df.groupby('species').agg(['mean', 'median', 'std', 'max', 'min'])"
   ]
  },
  {
   "cell_type": "code",
   "execution_count": 41,
   "metadata": {},
   "outputs": [
    {
     "data": {
      "image/png": "[encoded data removed]",
      "text/plain": [
       "<Figure size 432x288 with 4 Axes>"
      ]
     },
     "metadata": {
      "needs_background": "light"
     },
     "output_type": "display_data"
    }
   ],
   "source": [
    "# Show the histogram per bill length\n",
    "df.hist(column = 'bill_length_mm', by = 'species', sharey = True)\n",
    "plt.show()"
   ]
  },
  {
   "cell_type": "code",
   "execution_count": 42,
   "metadata": {},
   "outputs": [
    {
     "data": {
      "image/png": "[encoded data removed]",
      "text/plain": [
       "<Figure size 432x288 with 4 Axes>"
      ]
     },
     "metadata": {
      "needs_background": "light"
     },
     "output_type": "display_data"
    }
   ],
   "source": [
    "# Show the histogram per bill depth\n",
    "df.hist(column = 'bill_depth_mm', by = 'species', sharey = True)\n",
    "plt.show()"
   ]
  },
  {
   "cell_type": "code",
   "execution_count": 43,
   "metadata": {},
   "outputs": [
    {
     "data": {
      "image/png": "[encoded data removed]",
      "text/plain": [
       "<Figure size 432x288 with 4 Axes>"
      ]
     },
     "metadata": {
      "needs_background": "light"
     },
     "output_type": "display_data"
    }
   ],
   "source": [
    "# Show the histogram per flipper length\n",
    "df.hist(column = 'flipper_length_mm', by = 'species', sharey = True)\n",
    "plt.show()"
   ]
  },
  {
   "cell_type": "code",
   "execution_count": 29,
   "metadata": {},
   "outputs": [],
   "source": [
    "# Show a boxplot of body mass per species"
   ]
  },
  {
   "cell_type": "code",
   "execution_count": 30,
   "metadata": {},
   "outputs": [],
   "source": [
    "# Show a bivariate plot of bill length and bill depth"
   ]
  },
  {
   "cell_type": "code",
   "execution_count": 31,
   "metadata": {},
   "outputs": [],
   "source": [
    "# Is there a way to be more effective?\n"
   ]
  },
  {
   "cell_type": "code",
   "execution_count": 32,
   "metadata": {},
   "outputs": [],
   "source": [
    "# What percentage of Gentoo penguins weights less than 5000 (visually)\n"
   ]
  },
  {
   "cell_type": "code",
   "execution_count": 33,
   "metadata": {},
   "outputs": [],
   "source": [
    "# Is there a difference between Adelie penguins from each island?\n",
    "# alpha = 0.05\n",
    "# reject_H0 = p_value < alpha "
   ]
  },
  {
   "cell_type": "code",
   "execution_count": 34,
   "metadata": {},
   "outputs": [],
   "source": [
    "# Show the boxplot of Adelie penguins by island"
   ]
  }
 ],
 "metadata": {
  "kernelspec": {
   "display_name": "Python 3.8.13 64-bit ('3.8.13')",
   "language": "python",
   "name": "python3"
  },
  "language_info": {
   "codemirror_mode": {
    "name": "ipython",
    "version": 3
   },
   "file_extension": ".py",
   "mimetype": "text/x-python",
   "name": "python",
   "nbconvert_exporter": "python",
   "pygments_lexer": "ipython3",
   "version": "3.8.13"
  },
  "orig_nbformat": 4,
  "vscode": {
   "interpreter": {
    "hash": "110cc1dee26208153f2972f08a2ad52b6a56238dc66d48e87fb757ef2996db56"
   }
  }
 },
 "nbformat": 4,
 "nbformat_minor": 2
}
